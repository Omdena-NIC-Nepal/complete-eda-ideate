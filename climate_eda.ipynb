{
 "cells": [
  {
   "cell_type": "markdown",
   "metadata": {},
   "source": [
    "# Climate Data Exploratory Data Analysis\n",
    "\n",
    "## Introduction\n",
    "This notebook contains an exploratory data analysis of climate data from 1900 to 2023. The dataset includes global temperatures, CO2 concentration, sea level rise, and Arctic ice area.\n",
    "\n",
    "Your task is to perform a comprehensive EDA following the requirements in the README.md file."
   ]
  },
  {
   "cell_type": "code",
   "execution_count": 3,
   "metadata": {},
   "outputs": [],
   "source": [
    "# Import required libraries\n",
    "import pandas as pd\n",
    "import numpy as np\n",
    "import matplotlib.pyplot as plt\n",
    "import seaborn as sns\n",
    "\n",
    "# Set plot styling\n",
    "plt.style.use('seaborn-v0_8-whitegrid')\n",
    "sns.set_palette('viridis')\n",
    "%matplotlib inline"
   ]
  },
  {
   "cell_type": "markdown",
   "metadata": {},
   "source": [
    "## 1. Data Preparation\n",
    "\n",
    "Load the climate data and perform necessary cleaning and aggregation."
   ]
  },
  {
   "cell_type": "code",
   "execution_count": null,
   "metadata": {},
   "outputs": [],
   "source": [
    "# Load the dataset\n",
    "df = pd.read_csv('data/Climate_Change_Indicators.csv')# Place the correct path to the file you are reading here (Make sure to load using the relative path)\n",
    "\n",
    "# Display the first few rows of the dataset\n",
    "df.head()"
   ]
  },
  {
   "cell_type": "code",
   "execution_count": null,
   "metadata": {},
   "outputs": [],
   "source": [
    "# Check for missing values and basic information about the dataset\n",
    "print(\"Dataset Information:\")\n",
    "print(df.info())\n",
    "print(\"\\nMissing Values:\")\n",
    "print(df.isnull().sum())"
   ]
  },
  {
   "cell_type": "code",
   "execution_count": null,
   "metadata": {},
   "outputs": [],
   "source": [
    "# TODO: Aggregate data by year to create a 124-year time series\n",
    "df_aggregated = df.groupby('Year').mean().reset_index()\n",
    "\n",
    "# Display the first few rows of the aggregated dataset\n",
    "print(df_aggregated.head(10))"
   ]
  },
  {
   "cell_type": "markdown",
   "metadata": {},
   "source": [
    "## 2. Univariate Analysis\n",
    "\n",
    "Analyze each climate variable independently."
   ]
  },
  {
   "cell_type": "code",
   "execution_count": null,
   "metadata": {},
   "outputs": [],
   "source": [
    "# Rename columns for easier access\n",
    "df.rename(columns={\n",
    "    \"Global Average Temperature (°C)\": \"Temperature\",\n",
    "    \"CO2 Concentration (ppm)\": \"CO2\",\n",
    "    \"Sea Level Rise (mm)\": \"Sea_Level\",\n",
    "    \"Arctic Ice Area (million km²)\": \"Ice_Area\"\n",
    "}, inplace=True)\n",
    "\n",
    "# Set style\n",
    "sns.set_style(\"whitegrid\")\n",
    "\n",
    "# List of variables for analysis\n",
    "variables = [\"Temperature\", \"CO2\", \"Sea_Level\", \"Ice_Area\"]\n",
    "\n",
    "# Descriptive Statistics\n",
    "for column in variables:\n",
    "    print(f\"Descriptive Statistics for {column}:\")\n",
    "    print(df[column].describe().round(2))\n",
    "    print(f\"Mean: {df[column].mean():.2f}\")\n",
    "    print(f\"Median: {df[column].median():.2f}\")\n",
    "    print(f\"Standard Deviation: {df[column].std():.2f}\")\n",
    "    print(f\"Minimum: {df[column].min():.2f}\")\n",
    "    print(f\"Maximum: {df[column].max():.2f}\")\n",
    "    print(\"\\n\")\n",
    "\n",
    "# Plot histograms\n",
    "for column in variables:\n",
    "    plt.figure(figsize=(8, 5))\n",
    "    sns.histplot(df[column], bins=20, kde=True, color=\"blue\")\n",
    "    plt.xlabel(column, fontsize=12)\n",
    "    plt.ylabel(\"Frequency\", fontsize=12)\n",
    "    plt.title(f\"Histogram of {column}\", fontsize=14)\n",
    "    plt.show()\n",
    "\n",
    "# Plot Boxplots\n",
    "for column in variables:\n",
    "    plt.figure(figsize=(8, 6))\n",
    "    sns.boxplot(y=df[column], palette='viridis', whis=1.5)\n",
    "    plt.title(f'Box Plot for {column}', fontsize=16)\n",
    "    plt.xlabel(column, fontsize=14)\n",
    "    plt.ylabel('Value', fontsize=14)\n",
    "    plt.xticks(fontsize=12)\n",
    "    plt.yticks(fontsize=12)\n",
    "    plt.tight_layout()\n",
    "    plt.show()\n",
    "\n",
    "# Plot KDE plots\n",
    "for column in variables:\n",
    "    plt.figure(figsize=(8, 5))\n",
    "    sns.kdeplot(df[column], color='red')\n",
    "    plt.title(f'KDE Plot of {column}', fontsize=14)\n",
    "    plt.xlabel(column, fontsize=12)\n",
    "    plt.ylabel('Density', fontsize=12)\n",
    "    plt.show()\n",
    "\n",
    "# Plot Distribution plots (displot)\n",
    "for column in variables:\n",
    "    plt.figure(figsize=(8, 5))\n",
    "    sns.displot(df[column], bins=20, kde=True, color=\"blue\")\n",
    "    plt.title(f'Distribution Plot of {column}', fontsize=14)\n",
    "    plt.xlabel(column, fontsize=12)\n",
    "    plt.ylabel('Frequency', fontsize=12)\n",
    "    plt.show()"
   ]
  },
  {
   "cell_type": "markdown",
   "metadata": {},
   "source": [
    "## 3. Bivariate Analysis\n",
    "\n",
    "Explore relationships between pairs of climate variables."
   ]
  },
  {
   "cell_type": "code",
   "execution_count": null,
   "metadata": {},
   "outputs": [],
   "source": [
    "# TODO: Perform bivariate analysis\n",
    "# Include correlation analysis and appropriate visualizations\n",
    "# Your code here"
   ]
  },
  {
   "cell_type": "markdown",
   "metadata": {},
   "source": [
    "## 4. Multivariate Analysis\n",
    "\n",
    "Investigate relationships among three or more variables."
   ]
  },
  {
   "cell_type": "code",
   "execution_count": null,
   "metadata": {},
   "outputs": [],
   "source": [
    "# TODO: Perform multivariate analysis\n",
    "# Create advanced visualizations showing multiple variables\n",
    "# Your code here"
   ]
  },
  {
   "cell_type": "markdown",
   "metadata": {},
   "source": [
    "## 5. Conclusions and Insights\n",
    "\n",
    "Summarize your findings and discuss their implications."
   ]
  },
  {
   "cell_type": "markdown",
   "metadata": {},
   "source": [
    "## Univariate Analysis\n",
    "The data appears to be normally distributed, with most temperature values clustered around the mean. There is moderate variability in temperature, as indicated by the spread of the histogram. No significant outliers are observed, suggesting that the temperature data is consistent and reliable..\n",
    "| Statistic      | Temperature | CO₂     | Sea Level | Ice Area |\n",
    "|---------------|------------|---------|-----------|----------|\n",
    "| **Count**     | 1,048,576  | 1,048,576 | 1,048,576  | 1,048,576  |\n",
    "| **Mean**      | 14.50      | 350.03  | 149.99    | 9.00     |\n",
    "| **Median (50%)** | 14.50  | 350.07  | 150.02    | 9.00     |\n",
    "| **Standard Deviation (std)** | 0.87  | 40.42   | 86.58     | 3.46     |\n",
    "| **Minimum**   | 13.00      | 280.00  | 0.00      | 3.00     |\n",
    "| **25th Percentile (Q1)** | 13.75 | 314.99  | 74.97     | 6.00     |\n",
    "| **75th Percentile (Q3)** | 15.25 | 385.02  | 224.93    | 12.00    |\n",
    "| **Maximum**   | 16.00      | 420.00  | 300.00    | 15.00    |\n"
   ]
  }
 ],
 "metadata": {
  "kernelspec": {
   "display_name": "venv",
   "language": "python",
   "name": "python3"
  },
  "language_info": {
   "codemirror_mode": {
    "name": "ipython",
    "version": 3
   },
   "file_extension": ".py",
   "mimetype": "text/x-python",
   "name": "python",
   "nbconvert_exporter": "python",
   "pygments_lexer": "ipython3",
   "version": "3.13.2"
  }
 },
 "nbformat": 4,
 "nbformat_minor": 4
}
